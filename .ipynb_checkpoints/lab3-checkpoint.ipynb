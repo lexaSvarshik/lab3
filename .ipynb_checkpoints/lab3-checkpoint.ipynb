{
 "cells": [
  {
   "cell_type": "code",
   "execution_count": 1,
   "id": "deca70ee",
   "metadata": {},
   "outputs": [
    {
     "name": "stderr",
     "output_type": "stream",
     "text": [
      "\n",
      "KeyboardInterrupt\n",
      "\n"
     ]
    }
   ],
   "source": [
    "import math\n",
    "import gspread\n",
    "import numpy as np\n",
    "from matplotlib import pyplot as plt \n",
    "\n",
    "gc = gspread.service_account(filename='lab3-408211-43fc1f2a669b.json')\n",
    "sh = gc.open(\"lab3\")\n",
    "\n",
    "level_count = 10\n",
    "levels = [i for i in range(1, level_count+1)]\n",
    "\n",
    "shields_num_array = [3, 3, 3, 3, 2, 2, 2, 1, 1, 1]\n",
    "shields_num_table_start_index = \"A3\"\n",
    "\n",
    "dragon_speed_start = 5\n",
    "dragon_speed_modifier = 3\n",
    "dragon_speed_table_start_index = \"K3\"\n",
    "\n",
    "dragon_time_between_egg_drop_start = 1\n",
    "dragon_time_between_egg_drop_modifier = -0.075\n",
    "dragon_time_between_egg_drop_table_start_index = \"A17\"\n",
    "\n",
    "dragon_left_right_distance_start = 10\n",
    "dragon_left_right_distance_modifier = -0.25\n",
    "dragon_left_right_distance_table_start_index = \"K17\"\n",
    "\n",
    "def create_array(length, startNum, modifier):\n",
    "    array = []\n",
    "    for i in range(length):\n",
    "        array.append(round(startNum + (i * modifier), 2))\n",
    "    return array\n",
    "\n",
    "def load_data(values, start_index):\n",
    "      for i in range(len(values)):\n",
    "            sh.sheet1.update(chr(ord(start_index[0]) + i) + str(int(start_index[1:])), values[i])\n",
    "            print(chr(ord(start_index[0]) + i) + str(int(start_index[1:])), values[i])\n",
    "\n",
    "load_data(shields_num_array, shields_num_table_start_index)\n",
    "plt.plot(levels, shields_num_array)  \n",
    "plt.title(\"Shield Num\")\n",
    "plt.xticks(ticks=levels, labels=levels) \n",
    "plt.xlabel('Level')\n",
    "plt.ylabel('Shields')\n",
    "plt.show()     \n",
    "    \n",
    "dragon_speed_array = create_array(level_count, dragon_speed_start, dragon_speed_modifier)\n",
    "load_data(dragon_speed_array, dragon_speed_table_start_index)\n",
    "plt.plot(levels, dragon_speed_array)  \n",
    "plt.title(\"Dragon Speed\")\n",
    "plt.xticks(ticks=levels, labels=levels) \n",
    "plt.xlabel('Level')\n",
    "plt.ylabel('Speed')\n",
    "plt.show()\n",
    "\n",
    "dragon_time_between_egg_drop_array = create_array(level_count, dragon_time_between_egg_drop_start, dragon_time_between_egg_drop_modifier)\n",
    "load_data(dragon_time_between_egg_drop_array, dragon_time_between_egg_drop_table_start_index)\n",
    "plt.plot(levels, dragon_time_between_egg_drop_array)  \n",
    "plt.title(\"Time between egg drop\")\n",
    "plt.xticks(ticks=levels, labels=levels) \n",
    "plt.xlabel('Level')\n",
    "plt.ylabel('Time')\n",
    "plt.show()\n",
    "\n",
    "dragon_left_right_distance_array = create_array(level_count, dragon_left_right_distance_start, dragon_left_right_distance_modifier)\n",
    "load_data(dragon_left_right_distance_array, dragon_left_right_distance_table_start_index)\n",
    "plt.plot(levels, dragon_left_right_distance_array)  \n",
    "plt.title(\"Dragon Left Right distance\")\n",
    "plt.xticks(ticks=levels, labels=levels) \n",
    "plt.xlabel('Level')\n",
    "plt.ylabel('Distance')\n",
    "plt.show()"
   ]
  },
  {
   "cell_type": "code",
   "execution_count": null,
   "id": "5cb03e1a",
   "metadata": {},
   "outputs": [],
   "source": []
  }
 ],
 "metadata": {
  "kernelspec": {
   "display_name": "Python 3 (ipykernel)",
   "language": "python",
   "name": "python3"
  },
  "language_info": {
   "codemirror_mode": {
    "name": "ipython",
    "version": 3
   },
   "file_extension": ".py",
   "mimetype": "text/x-python",
   "name": "python",
   "nbconvert_exporter": "python",
   "pygments_lexer": "ipython3",
   "version": "3.11.5"
  }
 },
 "nbformat": 4,
 "nbformat_minor": 5
}
